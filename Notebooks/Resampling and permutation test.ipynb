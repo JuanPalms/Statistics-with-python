{
 "cells": [
  {
   "cell_type": "markdown",
   "id": "631b36e0",
   "metadata": {},
   "source": [
    "## Resampling and permutations"
   ]
  },
  {
   "cell_type": "code",
   "execution_count": 1,
   "id": "7f76f1cc",
   "metadata": {},
   "outputs": [],
   "source": [
    "import pandas as pd\n",
    "import seaborn as sns\n",
    "import numpy as np\n",
    "import scipy as sp\n",
    "import random\n",
    "import matplotlib.pyplot as plt"
   ]
  },
  {
   "cell_type": "markdown",
   "id": "08478d7b",
   "metadata": {},
   "source": [
    "#### Primero cargamos los datos correspondientes al ejemplo de Beer and wings de Chihara 2019 capitulo 3"
   ]
  },
  {
   "cell_type": "code",
   "execution_count": 2,
   "id": "1877c8bb",
   "metadata": {},
   "outputs": [],
   "source": [
    "data_wings=pd.read_csv('Beer_wings.csv')"
   ]
  },
  {
   "cell_type": "code",
   "execution_count": 3,
   "id": "abdc9179",
   "metadata": {
    "scrolled": true
   },
   "outputs": [
    {
     "data": {
      "text/html": [
       "<div>\n",
       "<style scoped>\n",
       "    .dataframe tbody tr th:only-of-type {\n",
       "        vertical-align: middle;\n",
       "    }\n",
       "\n",
       "    .dataframe tbody tr th {\n",
       "        vertical-align: top;\n",
       "    }\n",
       "\n",
       "    .dataframe thead th {\n",
       "        text-align: right;\n",
       "    }\n",
       "</style>\n",
       "<table border=\"1\" class=\"dataframe\">\n",
       "  <thead>\n",
       "    <tr style=\"text-align: right;\">\n",
       "      <th></th>\n",
       "      <th>Unnamed: 0</th>\n",
       "      <th>ID</th>\n",
       "      <th>Hotwings</th>\n",
       "      <th>Beer</th>\n",
       "      <th>Gender</th>\n",
       "    </tr>\n",
       "  </thead>\n",
       "  <tbody>\n",
       "    <tr>\n",
       "      <th>0</th>\n",
       "      <td>1</td>\n",
       "      <td>1</td>\n",
       "      <td>4</td>\n",
       "      <td>24</td>\n",
       "      <td>F</td>\n",
       "    </tr>\n",
       "    <tr>\n",
       "      <th>1</th>\n",
       "      <td>2</td>\n",
       "      <td>2</td>\n",
       "      <td>5</td>\n",
       "      <td>0</td>\n",
       "      <td>F</td>\n",
       "    </tr>\n",
       "    <tr>\n",
       "      <th>2</th>\n",
       "      <td>3</td>\n",
       "      <td>3</td>\n",
       "      <td>5</td>\n",
       "      <td>12</td>\n",
       "      <td>F</td>\n",
       "    </tr>\n",
       "    <tr>\n",
       "      <th>3</th>\n",
       "      <td>4</td>\n",
       "      <td>4</td>\n",
       "      <td>6</td>\n",
       "      <td>12</td>\n",
       "      <td>F</td>\n",
       "    </tr>\n",
       "    <tr>\n",
       "      <th>4</th>\n",
       "      <td>5</td>\n",
       "      <td>5</td>\n",
       "      <td>7</td>\n",
       "      <td>12</td>\n",
       "      <td>F</td>\n",
       "    </tr>\n",
       "  </tbody>\n",
       "</table>\n",
       "</div>"
      ],
      "text/plain": [
       "   Unnamed: 0  ID  Hotwings  Beer Gender\n",
       "0           1   1         4    24      F\n",
       "1           2   2         5     0      F\n",
       "2           3   3         5    12      F\n",
       "3           4   4         6    12      F\n",
       "4           5   5         7    12      F"
      ]
     },
     "execution_count": 3,
     "metadata": {},
     "output_type": "execute_result"
    }
   ],
   "source": [
    "data_wings.head()"
   ]
  },
  {
   "cell_type": "markdown",
   "id": "3b7b7bc7",
   "metadata": {},
   "source": [
    "### Problema\n",
    "\n",
    "Queremos ver si las mujeres consumen menos alitas que los hombres en nuestra muestra\n",
    "\n",
    "Ha: M(mujeres)< M(hombres)\n",
    "\n",
    "H0: M(mujeres)=M(hombres)"
   ]
  },
  {
   "cell_type": "markdown",
   "id": "a70a2573",
   "metadata": {},
   "source": [
    "##### Vemos como estan las medias de los subgrupos que nos interesan"
   ]
  },
  {
   "cell_type": "code",
   "execution_count": 4,
   "id": "8533b41e",
   "metadata": {},
   "outputs": [],
   "source": [
    "means = data_wings.groupby(['Gender']).agg(['mean'])"
   ]
  },
  {
   "cell_type": "code",
   "execution_count": 5,
   "id": "05075888",
   "metadata": {},
   "outputs": [
    {
     "data": {
      "text/html": [
       "<div>\n",
       "<style scoped>\n",
       "    .dataframe tbody tr th:only-of-type {\n",
       "        vertical-align: middle;\n",
       "    }\n",
       "\n",
       "    .dataframe tbody tr th {\n",
       "        vertical-align: top;\n",
       "    }\n",
       "\n",
       "    .dataframe thead tr th {\n",
       "        text-align: left;\n",
       "    }\n",
       "\n",
       "    .dataframe thead tr:last-of-type th {\n",
       "        text-align: right;\n",
       "    }\n",
       "</style>\n",
       "<table border=\"1\" class=\"dataframe\">\n",
       "  <thead>\n",
       "    <tr>\n",
       "      <th></th>\n",
       "      <th>Unnamed: 0</th>\n",
       "      <th>ID</th>\n",
       "      <th>Hotwings</th>\n",
       "      <th>Beer</th>\n",
       "    </tr>\n",
       "    <tr>\n",
       "      <th></th>\n",
       "      <th>mean</th>\n",
       "      <th>mean</th>\n",
       "      <th>mean</th>\n",
       "      <th>mean</th>\n",
       "    </tr>\n",
       "    <tr>\n",
       "      <th>Gender</th>\n",
       "      <th></th>\n",
       "      <th></th>\n",
       "      <th></th>\n",
       "      <th></th>\n",
       "    </tr>\n",
       "  </thead>\n",
       "  <tbody>\n",
       "    <tr>\n",
       "      <th>F</th>\n",
       "      <td>10.333333</td>\n",
       "      <td>10.333333</td>\n",
       "      <td>9.333333</td>\n",
       "      <td>22.0</td>\n",
       "    </tr>\n",
       "    <tr>\n",
       "      <th>M</th>\n",
       "      <td>20.666667</td>\n",
       "      <td>20.666667</td>\n",
       "      <td>14.533333</td>\n",
       "      <td>30.4</td>\n",
       "    </tr>\n",
       "  </tbody>\n",
       "</table>\n",
       "</div>"
      ],
      "text/plain": [
       "       Unnamed: 0         ID   Hotwings  Beer\n",
       "             mean       mean       mean  mean\n",
       "Gender                                       \n",
       "F       10.333333  10.333333   9.333333  22.0\n",
       "M       20.666667  20.666667  14.533333  30.4"
      ]
     },
     "execution_count": 5,
     "metadata": {},
     "output_type": "execute_result"
    }
   ],
   "source": [
    "means"
   ]
  },
  {
   "cell_type": "code",
   "execution_count": 6,
   "id": "5825825f",
   "metadata": {},
   "outputs": [],
   "source": [
    "beer_f=data_wings['Beer'][data_wings['Gender']==\"F\"].mean()\n",
    "beer_m=data_wings['Beer'][data_wings['Gender']==\"M\"].mean()\n",
    "\n",
    "wings_f=data_wings['Hotwings'][data_wings['Gender']==\"F\"].mean()\n",
    "wings_m=data_wings['Hotwings'][data_wings['Gender']==\"M\"].mean()"
   ]
  },
  {
   "cell_type": "markdown",
   "id": "f087af38",
   "metadata": {},
   "source": [
    "Funcion auxiliar para sacar diferencia de medias por subgrupos"
   ]
  },
  {
   "cell_type": "code",
   "execution_count": 7,
   "id": "a5ec50b0",
   "metadata": {},
   "outputs": [],
   "source": [
    "def get_diffmedias(x, y, axis):\n",
    "\n",
    "    return np.mean(x, axis=axis) - np.mean(y, axis=axis)"
   ]
  },
  {
   "cell_type": "code",
   "execution_count": 25,
   "id": "2b0d5aee",
   "metadata": {
    "scrolled": true
   },
   "outputs": [],
   "source": [
    "estadistico_observado=get_diffmedias(data_wings['Hotwings'][data_wings['Gender']==\"M\"], data_wings['Hotwings'][data_wings['Gender']==\"F\"], 0)"
   ]
  },
  {
   "cell_type": "markdown",
   "id": "704549d2",
   "metadata": {},
   "source": [
    "### Construccion de la distribucion de referencia"
   ]
  },
  {
   "cell_type": "markdown",
   "id": "f2ae4e6d",
   "metadata": {},
   "source": [
    "Since we will be working with the hot wings variable, we will create a vector holding these\n",
    "values. Then, we will draw a random sample of size 15 from the numbers 1 through 30 (there\n",
    "are 30 observations is total). The hot wing values corresponding to these positions will be values\n",
    "for the males and the remaining ones for the females. The mean difference of this permutation\n",
    "will be stored in result. This will be repeated many times."
   ]
  },
  {
   "cell_type": "code",
   "execution_count": 10,
   "id": "aab0fde2",
   "metadata": {},
   "outputs": [
    {
     "data": {
      "text/plain": [
       "RangeIndex(start=0, stop=30, step=1)"
      ]
     },
     "execution_count": 10,
     "metadata": {},
     "output_type": "execute_result"
    }
   ],
   "source": [
    "alitas=data_wings['Hotwings'] #Separo mi columna de interes en la que voy a probar diferencia de medias\n",
    "alitas.index"
   ]
  },
  {
   "cell_type": "code",
   "execution_count": 35,
   "id": "2da66749",
   "metadata": {},
   "outputs": [],
   "source": [
    "#Numero de veces que repetiremos el proceso: Numero de veces que se hara el remuestreo\n",
    "N=list(range(0,10**5))\n",
    "n=10**5-1"
   ]
  },
  {
   "cell_type": "code",
   "execution_count": 36,
   "id": "607f810f",
   "metadata": {},
   "outputs": [],
   "source": [
    "#definiendo la distribucion bajo la hipotesis nula: Todas las repeticiones son \n",
    "dist_nula=[]\n",
    "for i in N:\n",
    "    index = random.sample(range(0,30),15)\n",
    "    media1=data_wings['Hotwings'].iloc[index].mean()\n",
    "    media2=data_wings['Hotwings'].iloc[data_wings.index.difference(index)].mean()\n",
    "    dist_nula.append(media1-media2)"
   ]
  },
  {
   "cell_type": "markdown",
   "id": "450a9217",
   "metadata": {},
   "source": [
    "We first create a histogram of the permutation distribution and add a vertical line at the observed\n",
    "mean difference."
   ]
  },
  {
   "cell_type": "markdown",
   "id": "1787c81b",
   "metadata": {},
   "source": [
    "### Visualizacion y resultados"
   ]
  },
  {
   "cell_type": "markdown",
   "id": "bfebef7c",
   "metadata": {},
   "source": [
    "Que tan tipico es el valor de mi diferencia de medias observada dentro de la distrbucion de referencia bajo la hipotesis nula?"
   ]
  },
  {
   "cell_type": "code",
   "execution_count": 49,
   "id": "cf6927c5",
   "metadata": {},
   "outputs": [
    {
     "data": {
      "text/plain": [
       "Text(5.28, 6000, 'Diferencia\\nobservada')"
      ]
     },
     "execution_count": 49,
     "metadata": {},
     "output_type": "execute_result"
    },
    {
     "data": {
      "image/png": "[encoded data removed]",
      "text/plain": [
       "<Figure size 432x288 with 1 Axes>"
      ]
     },
     "metadata": {
      "needs_background": "light"
     },
     "output_type": "display_data"
    }
   ],
   "source": [
    "#Grafico mi distribucion de referencia bajo H0 y pongo una linea vertical en la media observada\n",
    "plt.hist(dist_nula, alpha=0.7, bins=40)\n",
    "plt.axvline(x=5.199, linestyle='dotted', color='red')\n",
    "plt.title(\"Distribucion nula de medias\\n alitas hombres vs mujeres\")\n",
    "plt.xlabel(\"Diferencia de medias\")\n",
    "plt.text(5.28,6000, 'Diferencia\\nobservada',size=7.5)"
   ]
  },
  {
   "cell_type": "markdown",
   "id": "5b26f88f",
   "metadata": {},
   "source": [
    "Determinamos que tan probable es encontrar un valor como el observado\n",
    "\n",
    "We determine how likely it is to obtain an outcome as large or larger than what we observed."
   ]
  },
  {
   "cell_type": "code",
   "execution_count": 43,
   "id": "a6a05491",
   "metadata": {},
   "outputs": [
    {
     "data": {
      "text/html": [
       "<div>\n",
       "<style scoped>\n",
       "    .dataframe tbody tr th:only-of-type {\n",
       "        vertical-align: middle;\n",
       "    }\n",
       "\n",
       "    .dataframe tbody tr th {\n",
       "        vertical-align: top;\n",
       "    }\n",
       "\n",
       "    .dataframe thead th {\n",
       "        text-align: right;\n",
       "    }\n",
       "</style>\n",
       "<table border=\"1\" class=\"dataframe\">\n",
       "  <thead>\n",
       "    <tr style=\"text-align: right;\">\n",
       "      <th></th>\n",
       "      <th>0</th>\n",
       "    </tr>\n",
       "  </thead>\n",
       "  <tbody>\n",
       "    <tr>\n",
       "      <th>0</th>\n",
       "      <td>-3.066667</td>\n",
       "    </tr>\n",
       "    <tr>\n",
       "      <th>1</th>\n",
       "      <td>-2.400000</td>\n",
       "    </tr>\n",
       "    <tr>\n",
       "      <th>2</th>\n",
       "      <td>2.000000</td>\n",
       "    </tr>\n",
       "    <tr>\n",
       "      <th>3</th>\n",
       "      <td>1.600000</td>\n",
       "    </tr>\n",
       "    <tr>\n",
       "      <th>4</th>\n",
       "      <td>-1.600000</td>\n",
       "    </tr>\n",
       "    <tr>\n",
       "      <th>...</th>\n",
       "      <td>...</td>\n",
       "    </tr>\n",
       "    <tr>\n",
       "      <th>99995</th>\n",
       "      <td>0.800000</td>\n",
       "    </tr>\n",
       "    <tr>\n",
       "      <th>99996</th>\n",
       "      <td>0.800000</td>\n",
       "    </tr>\n",
       "    <tr>\n",
       "      <th>99997</th>\n",
       "      <td>-2.266667</td>\n",
       "    </tr>\n",
       "    <tr>\n",
       "      <th>99998</th>\n",
       "      <td>0.933333</td>\n",
       "    </tr>\n",
       "    <tr>\n",
       "      <th>99999</th>\n",
       "      <td>2.800000</td>\n",
       "    </tr>\n",
       "  </tbody>\n",
       "</table>\n",
       "<p>100000 rows × 1 columns</p>\n",
       "</div>"
      ],
      "text/plain": [
       "              0\n",
       "0     -3.066667\n",
       "1     -2.400000\n",
       "2      2.000000\n",
       "3      1.600000\n",
       "4     -1.600000\n",
       "...         ...\n",
       "99995  0.800000\n",
       "99996  0.800000\n",
       "99997 -2.266667\n",
       "99998  0.933333\n",
       "99999  2.800000\n",
       "\n",
       "[100000 rows x 1 columns]"
      ]
     },
     "execution_count": 43,
     "metadata": {},
     "output_type": "execute_result"
    }
   ],
   "source": [
    "distribucion_nula=pd.DataFrame(dist_nula)\n",
    "distribucion_nula"
   ]
  },
  {
   "cell_type": "code",
   "execution_count": 44,
   "id": "e1a591b1",
   "metadata": {},
   "outputs": [],
   "source": [
    "#numero de valores tan grandes como el observado\n",
    "extremos=distribucion_nula[distribucion_nula>=estadistico_observado].count() \n",
    "#Calculamos el p_value\n",
    "p_value=(extremos+1)/(n+1)"
   ]
  },
  {
   "cell_type": "markdown",
   "id": "567b0454",
   "metadata": {},
   "source": [
    "Thus, the computed P-value is\n",
    "just the proportion of statistics (including the original) that are as large or larger than the original\n",
    "mean difference."
   ]
  },
  {
   "cell_type": "code",
   "execution_count": 50,
   "id": "91578fed",
   "metadata": {},
   "outputs": [
    {
     "data": {
      "text/plain": [
       "0    0.00113\n",
       "dtype: float64"
      ]
     },
     "execution_count": 50,
     "metadata": {},
     "output_type": "execute_result"
    }
   ],
   "source": [
    "p_value"
   ]
  },
  {
   "cell_type": "markdown",
   "id": "4c86230f",
   "metadata": {},
   "source": [
    "#### Conclusion\n",
    "\n",
    "Recordemos que intentamos probar una hipotesis de una cola:\n",
    "Ho: M(hombres)=M(mujeres)\n",
    "Ha: M(mujeres)< M(hombres)\n",
    "\n",
    "En este caso al 1% de significancia podemos rechazar la hipotesis nula, se observa que el consumo promedio de alitas de los hombres en la muestra es mayor al de las mujeres con un nivel de significancia del 1%"
   ]
  },
  {
   "cell_type": "code",
   "execution_count": null,
   "id": "a5790861",
   "metadata": {},
   "outputs": [],
   "source": []
  }
 ],
 "metadata": {
  "kernelspec": {
   "display_name": "Python 3 (ipykernel)",
   "language": "python",
   "name": "python3"
  },
  "language_info": {
   "codemirror_mode": {
    "name": "ipython",
    "version": 3
   },
   "file_extension": ".py",
   "mimetype": "text/x-python",
   "name": "python",
   "nbconvert_exporter": "python",
   "pygments_lexer": "ipython3",
   "version": "3.10.6"
  }
 },
 "nbformat": 4,
 "nbformat_minor": 5
}
